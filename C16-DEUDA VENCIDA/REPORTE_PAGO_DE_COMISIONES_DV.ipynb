{
 "cells": [
  {
   "cell_type": "code",
   "execution_count": 1,
   "metadata": {},
   "outputs": [],
   "source": [
    "from CLASE_PAGO_CON_DEUDA_VENCIDA import Pago_con_deuda_vencida\n",
    "from datetime import datetime\n",
    "import pandas as pd\n",
    "\n",
    "#fecha_hoy = '20240221'\n",
    "fecha_hoy = datetime.today().strftime('%Y%m%d')\n",
    "#fecha_hoy_date = '21/02/2024'\n",
    "fecha_hoy_date = datetime.today().strftime('%d/%m/%Y')\n",
    "\n",
    "df_credenciales = pd.read_excel(\"../CREDENCIALES.xlsx\", sheet_name=\"CREDENCIALES\")\n",
    "user = df_credenciales[\"USER\"][0]\n",
    "password = df_credenciales[\"PASSWORD\"][0]\n",
    "database = df_credenciales[\"ORACLE_DB\"][0]\n",
    "ruta_ccd = df_credenciales[\"RUTA_CCD\"][0]\n",
    "\n",
    "reporte = Pago_con_deuda_vencida(fecha_hoy, fecha_hoy_date, user, password, database, ruta_ccd)"
   ]
  },
  {
   "cell_type": "code",
   "execution_count": 2,
   "metadata": {},
   "outputs": [],
   "source": [
    "#TENER LISTO LAS 4 BASES Y LUEGO EJECUTAR\n",
    "reporte.limpiarTablas()\n",
    "reporte.cargaBases()\n",
    "reporte.ActualizaPagoDeComisiones()\n",
    "reporte.exportHojas(fecha_hoy)"
   ]
  }
 ],
 "metadata": {
  "kernelspec": {
   "display_name": "Python 3",
   "language": "python",
   "name": "python3"
  },
  "language_info": {
   "codemirror_mode": {
    "name": "ipython",
    "version": 3
   },
   "file_extension": ".py",
   "mimetype": "text/x-python",
   "name": "python",
   "nbconvert_exporter": "python",
   "pygments_lexer": "ipython3",
   "version": "3.10.9"
  },
  "orig_nbformat": 4
 },
 "nbformat": 4,
 "nbformat_minor": 2
}
