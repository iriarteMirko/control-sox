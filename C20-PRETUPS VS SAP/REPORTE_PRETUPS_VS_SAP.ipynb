{
 "cells": [
  {
   "cell_type": "code",
   "execution_count": 1,
   "metadata": {},
   "outputs": [],
   "source": [
    "from CLASE_PRETUPS_VS_SAP import Clase_PretupsVsSap\n",
    "from datetime import datetime, timedelta\n",
    "import pandas as pd\n",
    "\n",
    "fecha_fin = datetime.today()                            # FECHA DE HOY MARTES\n",
    "fecha_inicio = fecha_fin - timedelta(days=7)            # FECHA DEL MARTES ANTERIOR\n",
    "\n",
    "fecha_fin = fecha_fin.strftime(\"%d/%m/%Y\")\n",
    "fecha_inicio = fecha_inicio.strftime(\"%d/%m/%Y\")\n",
    "\n",
    "#fecha_fin = \"31/03/2024\"\n",
    "#fecha_inicio = \"01/03/2024\"\n",
    "\n",
    "fecha_hoy = datetime.today().strftime(\"%Y%m%d\")\n",
    "# datetime.today().strftime('%Y%m%d')\n",
    "\n",
    "df_credenciales = pd.read_excel(\"../CREDENCIALES.xlsx\", sheet_name=\"CREDENCIALES\")\n",
    "user = df_credenciales[\"USER\"][0]\n",
    "password = df_credenciales[\"PASSWORD\"][0]\n",
    "database = df_credenciales[\"ORACLE_DB\"][0]\n",
    "ruta_ccd = df_credenciales[\"RUTA_CCD\"][0]\n",
    "\n",
    "reporte = Clase_PretupsVsSap(fecha_inicio, fecha_fin, fecha_hoy, user, password, database, ruta_ccd)"
   ]
  },
  {
   "cell_type": "code",
   "execution_count": 2,
   "metadata": {},
   "outputs": [],
   "source": [
    "reporte.cargaPretupsRecargas()\n",
    "reporte.cargaBases()\n",
    "reporte.conciliacion()\n",
    "reporte.exportIPEpretups(fecha_hoy)\n",
    "reporte.exportHojasPretupsSap(fecha_hoy)"
   ]
  }
 ],
 "metadata": {
  "kernelspec": {
   "display_name": "Python 3",
   "language": "python",
   "name": "python3"
  },
  "language_info": {
   "codemirror_mode": {
    "name": "ipython",
    "version": 3
   },
   "file_extension": ".py",
   "mimetype": "text/x-python",
   "name": "python",
   "nbconvert_exporter": "python",
   "pygments_lexer": "ipython3",
   "version": "3.10.9"
  },
  "orig_nbformat": 4
 },
 "nbformat": 4,
 "nbformat_minor": 2
}
